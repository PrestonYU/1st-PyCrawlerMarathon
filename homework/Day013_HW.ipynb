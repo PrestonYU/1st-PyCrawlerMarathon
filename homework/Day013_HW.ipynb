{
 "cells": [
  {
   "cell_type": "markdown",
   "metadata": {},
   "source": [
    "# PTT 網路爬蟲實作練習\n",
    "\n",
    "\n",
    "* 能夠利用 Request + BeatifulSour 撰寫爬蟲，並存放到合適的資料結構\n"
   ]
  },
  {
   "cell_type": "markdown",
   "metadata": {},
   "source": [
    "## 作業目標\n",
    "\n",
    "根據範例 ，完成以下問題：\n",
    "\n",
    "* ① 印出最新文章的「作者」「標題」「時間」\n",
    "* ② 印出第一頁所有文章的「作者」「標題」「時間」\n"
   ]
  },
  {
   "cell_type": "code",
   "execution_count": 1,
   "metadata": {},
   "outputs": [],
   "source": [
    "import requests\n",
    "from bs4 import BeautifulSoup\n",
    "\n",
    "url = 'https://www.ptt.cc/bbs/NBA/index.html'\n",
    "r = requests.get(url)\n",
    "\n",
    "soup = BeautifulSoup(r.text, \"lxml\")"
   ]
  },
  {
   "cell_type": "markdown",
   "metadata": {},
   "source": [
    "### ① 印出最新文章的「作者」「標題」「時間」"
   ]
  },
  {
   "cell_type": "code",
   "execution_count": 2,
   "metadata": {},
   "outputs": [],
   "source": [
    "title = soup.find(class_=\"title\").text\n",
    "title = title.replace('\\t', '').replace('\\n', '')"
   ]
  },
  {
   "cell_type": "code",
   "execution_count": 3,
   "metadata": {},
   "outputs": [
    {
     "name": "stdout",
     "output_type": "stream",
     "text": [
      "作者→ thnlkj0665\n",
      "標題→ [情報] James Harden 生涯三分球超越 J.Crawford\n",
      "時間→  1/19\n"
     ]
    }
   ],
   "source": [
    "print(f'作者→ {soup.find(class_=\"author\").text}\\n標題→ {title}\\n時間→ {soup.find(class_=\"date\").text}')"
   ]
  },
  {
   "cell_type": "markdown",
   "metadata": {},
   "source": [
    "### ② 印出第一頁所有文章的「作者」「標題」「時間」"
   ]
  },
  {
   "cell_type": "code",
   "execution_count": 4,
   "metadata": {},
   "outputs": [
    {
     "name": "stdout",
     "output_type": "stream",
     "text": [
      "[情報] James Harden 生涯三分球超越 J.Crawford\n",
      "作者: thnlkj0665 (灰色地帶)\n",
      "看板: NBA\n",
      "標題： [情報] James Harden 生涯三分球超越 J.Crawford\n",
      "時間： Sun Jan 19 22:58:00 2020\n",
      "Re: [情報] James Harden 生涯三分球超越 J.Crawford\n",
      "作者: aljust12 (ALJUST)\n",
      "看板: NBA\n",
      "標題： Re: [情報] James Harden 生涯三分球超越 J.Crawford\n",
      "時間： Mon Jan 20 00:07:44 2020\n",
      "[公告] 板規v6.8\n",
      "[公告] 樂透取消及未來不再開啟樂透\n",
      "作者: Vedan (味丹)\n",
      "看板: NBA\n",
      "標題： [公告] 樂透取消及未來不再開啟樂透\n",
      "時間： Mon Jun 24 15:08:02 2019\n",
      "[公告] 版主上任相關事項 \n",
      "作者: qazwsx879345 (Rajon Rondo)\n",
      "看板: NBA\n",
      "標題： [公告] 版主上任相關事項\n",
      "時間： Fri Oct 25 10:44:03 2019\n",
      "[情報] SEASON Schedule 賽程 January 19–20\n",
      "作者: Acetoxy (阿斯)\n",
      "看板: NBA\n",
      "標題： [情報] SEASON Schedule 賽程 January 19–20\n",
      "時間： Fri Jan  3 01:37:35 2020\n"
     ]
    }
   ],
   "source": [
    "for d in soup.find_all(class_=\"title\"):\n",
    "    print(d.text.replace('\\t', '').replace('\\n', ''))\n",
    "    try:\n",
    "        r = BeautifulSoup(requests.get('https://www.ptt.cc'+d.find('a')['href']).text, \"lxml\")\n",
    "        detail = r.find_all(class_='article-meta-value')\n",
    "        print(f'作者: {detail[0].text}\\n看板: {detail[1].text}\\n標題： {detail[2].text}\\n時間： {detail[3].text}')\n",
    "    except:\n",
    "        continue"
   ]
  },
  {
   "cell_type": "markdown",
   "metadata": {},
   "source": [
    "### ③ 試著爬爬看其他版的文章"
   ]
  },
  {
   "cell_type": "code",
   "execution_count": 6,
   "metadata": {},
   "outputs": [
    {
     "data": {
      "text/plain": [
       "<Response [200]>"
      ]
     },
     "execution_count": 6,
     "metadata": {},
     "output_type": "execute_result"
    }
   ],
   "source": [
    "s = requests.session()\n",
    "s.post('https://www.ptt.cc/ask/over18?from=%2Fbbs%2FGossiping%2Findex.html',data = {'from':'/bbs/car/index.html','yes':'yes'})"
   ]
  },
  {
   "cell_type": "code",
   "execution_count": 7,
   "metadata": {},
   "outputs": [
    {
     "name": "stdout",
     "output_type": "stream",
     "text": [
      "作者: ybelauren 標題: [問題] focus避震器價格 時間:  1/19\n",
      "作者: vigorhsieh 標題: Re: [新聞] 新北車禍特斯拉失控波及路人 1女童當場死 時間:  1/19\n",
      "作者: StarLeauge 標題: [問題] 車子熄火之前，要關冷氣和車機嗎？ 時間:  1/19\n",
      "作者: Harrychou 標題: [情報] 2019年全年度日本自動車銷售一覽 時間:  1/19\n",
      "作者: lb00202549 標題: Re: [心得] 不會開車的違規最沒品 時間:  1/19\n",
      "作者: e2345678910e 標題: [新聞] BMW318i重回四缸引擎 20d柴油車型跟進48V 時間:  1/19\n",
      "作者: endurant 標題: [討論] 監視器執行 科技執法:違停 會改善吧? 時間:  1/20\n",
      "作者: kurapica1106 標題: [問題] 蘆洲車禍銀車視野問題(不開出去真的看不到) 時間:  1/20\n",
      "作者: clazziquai 標題: [新聞] 2020不負責新車預測！ 時間:  1/20\n",
      "作者: MunezSu 標題: [公告] Car板板規 2019/08/15 板規修正 時間:  1/09\n",
      "作者: z85917131 標題: Re: [整理] 百萬左右熱門新車主被動安全配備(SRS/ESP/VSC..)整理 時間:  4/09\n",
      "作者: MunezSu 標題: [活動連署] saitou68201上任第二位版主 時間: 10/01\n"
     ]
    }
   ],
   "source": [
    "url = 'https://www.ptt.cc/bbs/car/index.html'\n",
    "r = requests.get(url)\n",
    "\n",
    "soup = BeautifulSoup(r.text, \"html5lib\")\n",
    "\n",
    "for d in soup.find_all(class_=\"r-ent\"):\n",
    "    print('作者:', d.find(class_=\"author\").text, \n",
    "          '標題:', d.find(class_=\"title\").text.replace('\\t', '').replace('\\n', ''), \n",
    "          '時間:', d.find(class_=\"date\").text)"
   ]
  },
  {
   "cell_type": "code",
   "execution_count": null,
   "metadata": {},
   "outputs": [],
   "source": []
  }
 ],
 "metadata": {
  "kernelspec": {
   "display_name": "Python 3",
   "language": "python",
   "name": "python3"
  },
  "language_info": {
   "codemirror_mode": {
    "name": "ipython",
    "version": 3
   },
   "file_extension": ".py",
   "mimetype": "text/x-python",
   "name": "python",
   "nbconvert_exporter": "python",
   "pygments_lexer": "ipython3",
   "version": "3.7.3"
  }
 },
 "nbformat": 4,
 "nbformat_minor": 2
}
