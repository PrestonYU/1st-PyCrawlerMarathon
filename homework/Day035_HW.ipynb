{
 "cells": [
  {
   "cell_type": "markdown",
   "metadata": {},
   "source": [
    "# 加速：多線程爬蟲\n",
    "\n",
    "\n",
    "\n",
    "* 了解知乎 API 使用方式與回傳內容\n",
    "* 撰寫程式存取 API 且添加標頭"
   ]
  },
  {
   "cell_type": "markdown",
   "metadata": {},
   "source": [
    "## 作業目標\n",
    "\n",
    "* 找一個之前實作過的爬蟲改用多線程改寫，比較前後時間的差異。\n",
    "\n",
    "\n",
    "\n"
   ]
  },
  {
   "cell_type": "code",
   "execution_count": 1,
   "metadata": {},
   "outputs": [],
   "source": [
    "import requests\n",
    "import time\n",
    "import re\n",
    "from bs4 import BeautifulSoup"
   ]
  },
  {
   "cell_type": "code",
   "execution_count": 8,
   "metadata": {},
   "outputs": [
    {
     "name": "stdout",
     "output_type": "stream",
     "text": [
      "量子電腦: %E9%87%8F%E5%AD%90%E9%9B%BB%E8%85%A6\n",
      "/wiki/%E9%87%8F%E5%AD%90%E9%9B%BB%E8%85%A6\n"
     ]
    }
   ],
   "source": [
    "input_keyword = \"量子電腦\"  \n",
    "\n",
    "utf8_url = repr(input_keyword.encode('UTF-8')).upper()  \n",
    "utf8_url = utf8_url.replace(\"\\\\X\", \"%\")                 \n",
    "print(\"%s: %s\" % (input_keyword, utf8_url[2:-1:1]))     \n",
    "\n",
    "root_keyword_link = '/wiki/' + utf8_url[2:-1:1]\n",
    "print(root_keyword_link)"
   ]
  },
  {
   "cell_type": "code",
   "execution_count": 9,
   "metadata": {},
   "outputs": [],
   "source": [
    "urls = []\n",
    "def WikiArticle(key_word_link, key_word, recursive):\n",
    "    \n",
    "    if (recursive <= max_recursive_depth):\n",
    "        print(\"遞迴層[%d] - %s (%s)\" % (recursive, key_word_link, key_word))\n",
    "        \n",
    "        # 模擬封包的標頭\n",
    "        headers = {\n",
    "            'authority': 'zh.wikipedia.org',\n",
    "            'method': 'GET',\n",
    "            'path': '/wiki/' + key_word_link,\n",
    "            'scheme': 'https',\n",
    "            'accept': 'text/html,application/xhtml+xml,application/xml;q=0.9,image/webp,image/apng,*/*;q=0.8,application/signed-exchange;v=b3',\n",
    "            'accept-encoding': 'gzip, deflate, br',\n",
    "            'accept-language': 'zh-TW,zh;q=0.9,en-US;q=0.8,en;q=0.7,zh-CN;q=0.6',\n",
    "            'cookie': 'GeoIP=TW:TPE:Taipei:25.05:121.53:v4; TBLkisOn=0; mwPhp7Seed=8b8; WMF-Last-Access-Global=04-Jun-2019; WMF-Last-Access=04-Jun-2019',\n",
    "            'dnt': '1',\n",
    "            #'if-modified-since': 'Tue, 04 Jun 2019 12:03:22 GMT',\n",
    "            'referer': 'https://zh.wikipedia.org/wiki/Wikipedia:%E9%A6%96%E9%A1%B5',\n",
    "            'upgrade-insecure-requests': '1',\n",
    "            'user-agent': 'Mozilla/5.0 (Windows NT 10.0; Win64; x64) AppleWebKit/537.36 (KHTML, like Gecko) Chrome/74.0.3729.169 Safari/537.36'\n",
    "        }    \n",
    "        \n",
    "        url = 'https://zh.wikipedia.org' + key_word_link  # 組合關鍵字查詢URL\n",
    "        resp = requests.get(url, headers=headers)\n",
    "        resp.encoding = 'utf-8'\n",
    "\n",
    "        html = BeautifulSoup(resp.text, \"lxml\")\n",
    "        content = html.find(name='div', attrs={'id':'mw-content-text'}).find_all(name='p')\n",
    "        \n",
    "        for ext_link in content:\n",
    "            a_tag = ext_link.find_all('a', href=re.compile(\"^(/wiki/)((?!;)\\S)*$\"))\n",
    "            if len(a_tag) > 0:\n",
    "                for link_string in a_tag:\n",
    "                    a_link = link_string[\"href\"]       # 外部連結的網址\n",
    "                    a_keyword = link_string.get_text()  # 外部連結的中文名稱\n",
    "                    print(\"外部連結: [%s] %s\" % (a_keyword, a_link))\n",
    "                    urls.append(a_link)"
   ]
  },
  {
   "cell_type": "code",
   "execution_count": 10,
   "metadata": {},
   "outputs": [
    {
     "name": "stdout",
     "output_type": "stream",
     "text": [
      "遞迴層[0] - /wiki/%E9%87%8F%E5%AD%90%E9%9B%BB%E8%85%A6 (量子電腦)\n",
      "外部連結: [通用計算] /wiki/%E9%80%9A%E7%94%A8%E8%AE%A1%E7%AE%97\n",
      "外部連結: [電子電腦] /wiki/%E7%94%B5%E5%AD%90%E8%AE%A1%E7%AE%97%E6%9C%BA\n",
      "外部連結: [量子位元] /wiki/%E9%87%8F%E5%AD%90%E4%BD%8D%E5%85%83\n",
      "外部連結: [馬約拉納費米子] /wiki/%E9%A9%AC%E7%BA%A6%E6%8B%89%E7%BA%B3%E8%B4%B9%E7%B1%B3%E5%AD%90\n",
      "外部連結: [反粒子] /wiki/%E5%8F%8D%E7%B2%92%E5%AD%90\n",
      "外部連結: [演算法] /wiki/%E6%BC%94%E7%AE%97%E6%B3%95\n",
      "外部連結: [電腦科學] /wiki/%E8%AE%A1%E7%AE%97%E6%9C%BA%E7%A7%91%E5%AD%A6\n",
      "外部連結: [電腦] /wiki/%E8%AE%A1%E7%AE%97%E6%9C%BA\n",
      "外部連結: [理察·費曼] /wiki/%E7%90%86%E6%9F%A5%E5%BE%B7%C2%B7%E8%B2%BB%E6%9B%BC\n",
      "外部連結: [量子圖靈機] /wiki/%E9%87%8F%E5%AD%90%E5%9C%96%E9%9D%88%E6%A9%9F\n",
      "外部連結: [量子] /wiki/%E9%87%8F%E5%AD%90\n",
      "外部連結: [希爾伯特空間] /wiki/%E5%B8%8C%E7%88%BE%E4%BC%AF%E7%89%B9%E7%A9%BA%E9%96%93\n",
      "外部連結: [計算機] /wiki/%E8%A8%88%E7%AE%97%E6%A9%9F\n",
      "外部連結: [積體電路] /wiki/%E7%A9%8D%E9%AB%94%E9%9B%BB%E8%B7%AF\n",
      "外部連結: [彼得·秀爾] /wiki/%E5%BD%BC%E5%BE%97%C2%B7%E7%A7%80%E7%88%BE\n",
      "外部連結: [量子質因數分解演算法] /wiki/%E7%A7%80%E7%88%BE%E6%BC%94%E7%AE%97%E6%B3%95\n",
      "外部連結: [離散對數] /wiki/%E7%A6%BB%E6%95%A3%E5%AF%B9%E6%95%B0\n",
      "外部連結: [半導體] /wiki/%E5%8D%8A%E5%B0%8E%E9%AB%94\n",
      "外部連結: [RSA加密演算法] /wiki/RSA%E5%8A%A0%E5%AF%86%E6%BC%94%E7%AE%97%E6%B3%95\n",
      "外部連結: [能階] /wiki/%E8%83%BD%E7%BA%A7\n",
      "外部連結: [量子位元] /wiki/%E9%87%8F%E5%AD%90%E4%BD%8D%E5%85%83\n",
      "外部連結: [量子疊加性] /wiki/%E6%80%81%E5%8F%A0%E5%8A%A0%E5%8E%9F%E7%90%86\n",
      "外部連結: [量子相干性] /wiki/%E9%87%8F%E5%AD%90%E7%9B%B8%E5%B9%B2%E6%80%A7\n",
      "外部連結: [D-Wave 系統公司] /wiki/D-Wave_%E7%B3%BB%E7%BB%9F%E5%85%AC%E5%8F%B8\n",
      "外部連結: [洛克希德·馬丁] /wiki/%E6%B4%9B%E5%85%8B%E5%B8%8C%E5%BE%B7%C2%B7%E9%A9%AC%E4%B8%81\n",
      "外部連結: [模擬退火] /wiki/%E6%A8%A1%E6%93%AC%E9%80%80%E7%81%AB\n",
      "外部連結: [量子退火法] /wiki/%E9%87%8F%E5%AD%90%E9%80%80%E7%81%AB\n",
      "外部連結: [D-Wave 系統公司] /wiki/D-Wave_%E7%B3%BB%E7%BB%9F%E5%85%AC%E5%8F%B8\n",
      "外部連結: [NASA] /wiki/NASA\n",
      "外部連結: [Google] /wiki/Google\n",
      "外部連結: [谷歌] /wiki/%E8%B0%B7%E6%AD%8C\n",
      "外部連結: [NASA] /wiki/NASA\n",
      "外部連結: [加利福尼亞] /wiki/%E5%8A%A0%E5%88%A9%E7%A6%8F%E5%B0%BC%E4%BA%9A\n",
      "外部連結: [IBM] /wiki/IBM\n",
      "外部連結: [新南威爾斯大學] /wiki/%E6%96%B0%E5%8D%97%E5%A8%81%E5%B0%94%E5%A3%AB%E5%A4%A7%E5%AD%A6\n",
      "外部連結: [矽] /wiki/%E7%A1%85\n",
      "外部連結: [量子閘] /wiki/%E9%87%8F%E5%AD%90%E9%96%98\n",
      "外部連結: [馬里蘭大學學院市分校] /wiki/%E9%A6%AC%E9%87%8C%E8%98%AD%E5%A4%A7%E5%AD%B8%E5%AD%B8%E9%99%A2%E5%B8%82%E5%88%86%E6%A0%A1\n",
      "外部連結: [量子位元] /wiki/%E9%87%8F%E5%AD%90%E4%BD%8D%E5%85%83\n",
      "外部連結: [中國科學院] /wiki/%E4%B8%AD%E5%9B%BD%E7%A7%91%E5%AD%A6%E9%99%A2\n",
      "外部連結: [哈佛大學] /wiki/%E5%93%88%E4%BD%9B%E5%A4%A7%E5%AD%B8\n",
      "外部連結: [莫斯科] /wiki/%E8%8E%AB%E6%96%AF%E7%A7%91\n",
      "外部連結: [絕對零度] /wiki/%E7%B5%95%E5%B0%8D%E9%9B%B6%E5%BA%A6\n",
      "外部連結: [消費電子展] /wiki/%E6%B6%88%E8%B2%BB%E9%9B%BB%E5%AD%90%E5%B1%95\n",
      "外部連結: [量子霸權] /wiki/%E9%87%8F%E5%AD%90%E9%9C%B8%E6%AC%8A\n",
      "外部連結: [演算法] /wiki/%E6%BC%94%E7%AE%97%E6%B3%95\n",
      "外部連結: [電腦] /wiki/%E9%9B%BB%E8%85%A6\n"
     ]
    }
   ],
   "source": [
    "max_recursive_depth = 1\n",
    "\n",
    "WikiArticle(root_keyword_link, input_keyword, 0)"
   ]
  },
  {
   "cell_type": "code",
   "execution_count": 11,
   "metadata": {},
   "outputs": [
    {
     "name": "stdout",
     "output_type": "stream",
     "text": [
      "76.59080004692078\n"
     ]
    }
   ],
   "source": [
    "startTime = time.time()\n",
    "\n",
    "for url in urls:\n",
    "    target = 'https://zh.wikipedia.org' + url\n",
    "    requests.get(target)\n",
    "\n",
    "finishTime = time.time()\n",
    "print(finishTime - startTime) # 正常情況的爬蟲所需時間"
   ]
  },
  {
   "cell_type": "code",
   "execution_count": 12,
   "metadata": {},
   "outputs": [
    {
     "name": "stdout",
     "output_type": "stream",
     "text": [
      "0.0733332633972168\n"
     ]
    }
   ],
   "source": [
    "import _thread\n",
    "\n",
    "startTime = time.time()\n",
    "\n",
    "for url in urls:\n",
    "    target = 'https://zh.wikipedia.org' + url\n",
    "    _thread.start_new_thread( requests.get, (target, ) )\n",
    "\n",
    "finishTime = time.time()\n",
    "print(finishTime - startTime) # 利用 thread 的爬蟲所需時間"
   ]
  },
  {
   "cell_type": "code",
   "execution_count": null,
   "metadata": {},
   "outputs": [],
   "source": []
  }
 ],
 "metadata": {
  "colab": {
   "name": "homework.ipynb",
   "provenance": []
  },
  "kernelspec": {
   "display_name": "Python 3",
   "language": "python",
   "name": "python3"
  },
  "language_info": {
   "codemirror_mode": {
    "name": "ipython",
    "version": 3
   },
   "file_extension": ".py",
   "mimetype": "text/x-python",
   "name": "python",
   "nbconvert_exporter": "python",
   "pygments_lexer": "ipython3",
   "version": "3.7.3"
  }
 },
 "nbformat": 4,
 "nbformat_minor": 1
}
